{
 "cells": [
  {
   "cell_type": "code",
   "execution_count": 4,
   "metadata": {
    "collapsed": true
   },
   "outputs": [],
   "source": [
    "import matplotlib.pyplot as plt\n",
    "%matplotlib inline"
   ]
  },
  {
   "cell_type": "code",
   "execution_count": 5,
   "metadata": {
    "collapsed": false
   },
   "outputs": [],
   "source": [
    "from IPython.display import display, Math, Latex"
   ]
  },
  {
   "cell_type": "code",
   "execution_count": 6,
   "metadata": {
    "collapsed": false
   },
   "outputs": [
    {
     "data": {
      "text/latex": [
       "$$P = \\frac{\\rho g^2} {64\\pi}H^2_m0 T_e\\approx   (0.5 \\frac {kW}{m^3 s}) H^2_m0 T_e,$$"
      ],
      "text/plain": [
       "<IPython.core.display.Math object>"
      ]
     },
     "metadata": {},
     "output_type": "display_data"
    },
    {
     "data": {
      "text/latex": [
       "$$Results = kW / metre  $$"
      ],
      "text/plain": [
       "<IPython.core.display.Math object>"
      ]
     },
     "metadata": {},
     "output_type": "display_data"
    }
   ],
   "source": [
    "display(Math(r'P = \\frac{\\rho g^2} {64\\pi}H^2_m0 T_e\\approx   (0.5 \\frac {kW}{m^3 s}) H^2_m0 T_e,'))\n",
    "display(Math(r'Results = kW / metre  '))\n"
   ]
  },
  {
   "cell_type": "raw",
   "metadata": {},
   "source": [
    "P = wave energy flux per unit of wave-crest length \n",
    "Hm0 = the significant wave height in Metres\n",
    "Te = wave energy period in seconds, \n",
    "ρ the water density and \n",
    "g the acceleration by gravity\n",
    "Result =  wave power in kilowatts (kW) per metre of wavefront length"
   ]
  }
 ],
 "metadata": {
  "_draft": {
   "nbviewer_url": "https://gist.github.com/652d2f15f5426e2d8256c4583d89b59c"
  },
  "gist": {
   "data": {
    "description": "LaTeX Expression for Wave Energy Flux Formula.ipynb",
    "public": true
   },
   "id": "652d2f15f5426e2d8256c4583d89b59c"
  },
  "kernelspec": {
   "display_name": "Python 2",
   "language": "python",
   "name": "python2"
  },
  "language_info": {
   "codemirror_mode": {
    "name": "ipython",
    "version": 2
   },
   "file_extension": ".py",
   "mimetype": "text/x-python",
   "name": "python",
   "nbconvert_exporter": "python",
   "pygments_lexer": "ipython2",
   "version": "2.7.11"
  }
 },
 "nbformat": 4,
 "nbformat_minor": 0
}
